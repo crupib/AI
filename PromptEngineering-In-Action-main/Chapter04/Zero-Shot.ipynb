{
 "cells": [
  {
   "cell_type": "code",
   "execution_count": null,
   "metadata": {},
   "outputs": [],
   "source": [
    "from langchain.agents import AgentType, initialize_agent\n",
    "from langchain_openai import ChatOpenAI\n",
    "from langchain_community.tools import ShellTool"
   ]
  },
  {
   "cell_type": "code",
   "execution_count": null,
   "metadata": {},
   "outputs": [],
   "source": [
    "shell_tool = ShellTool()\n",
    "llm = ChatOpenAI(temperature=0, openai_api_key=\"<<Open API Key>>\")\n",
    "shell_tool.description = shell_tool.description + f\"args{shell_tool.args}\".replace(\"{\", \"{{\").replace(\"}\", \"}}\")"
   ]
  },
  {
   "cell_type": "code",
   "execution_count": null,
   "metadata": {},
   "outputs": [],
   "source": [
    "self_ask_with_search = initialize_agent([shell_tool], llm,\n",
    "agent=AgentType.CHAT_ZERO_SHOT_REACT_DESCRIPTION, verbose=True)\n",
    "self_ask_with_search.run(\"Name the tallest mountain in the world and in North America\") "
   ]
  }
 ],
 "metadata": {
  "language_info": {
   "name": "python"
  }
 },
 "nbformat": 4,
 "nbformat_minor": 2
}
