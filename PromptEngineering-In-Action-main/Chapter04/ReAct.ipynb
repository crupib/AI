{
 "cells": [
  {
   "cell_type": "markdown",
   "metadata": {},
   "source": [
    "# ReAct Prompting"
   ]
  },
  {
   "cell_type": "code",
   "execution_count": null,
   "metadata": {},
   "outputs": [],
   "source": [
    "import os\n",
    "from langchain import PromptTemplate, LLMChain\n",
    "from langchain_openai import ChatOpenAI\n",
    "from langchain_core.messages import HumanMessage, SystemMessage"
   ]
  },
  {
   "cell_type": "code",
   "execution_count": null,
   "metadata": {},
   "outputs": [],
   "source": [
    "# Define the prompt template\n",
    "prompt_template1 = \"\"\"\n",
    "Q: {question}\n",
    "\"\"\"\n",
    "# Create the prompt object\n",
    "prompt = PromptTemplate(template=prompt_template1, input_variables=[\"question\"])\n",
    "\n",
    "llm = ChatOpenAI(temperature=0, model_name=\"gpt-4o\", openai_api_key=os.environ['OPENAI_API_KEY'])\n",
    "llm_chain = LLMChain(prompt=prompt, llm=llm)"
   ]
  },
  {
   "cell_type": "code",
   "execution_count": 5,
   "metadata": {},
   "outputs": [],
   "source": [
    "# Define the question\n",
    "question = \"\"\"Question: How deep is the Mariana Trench? \n",
    "Thought: I need to search for the Mariana Trench, then identify the deepest point recorded in this trench. \n",
    "Action: Search [Mariana Trench depth] \n",
    "Observation: The Mariana Trench is the deepest part of the world's oceans. \n",
    "Thought: The information is too general. I need specific data about the deepest point, known as the Challenger Deep. \n",
    "Action: Lookup [Challenger Deep depth] \n",
    "Observation: (Result 1 / 1) The Challenger Deep in the Mariana Trench reaches a depth of approximately 36,070 feet (10,994 meters).\n",
    " Thought: I found the specific depth of the Challenger Deep. This is the information I was looking for. \n",
    "Action: Finish [36,070 feet (10,994 meters)] \n",
    "\n",
    "Question: What is the temperature range for the area that the Great Barrier Reef extends into? \n",
    "\"\"\""
   ]
  },
  {
   "cell_type": "code",
   "execution_count": null,
   "metadata": {},
   "outputs": [],
   "source": [
    "response = llm_chain.run(question=question)"
   ]
  },
  {
   "cell_type": "code",
   "execution_count": 7,
   "metadata": {},
   "outputs": [
    {
     "name": "stdout",
     "output_type": "stream",
     "text": [
      "Thought: To answer this question, I need to find the temperature range of the waters where the Great Barrier Reef is located. The Great Barrier Reef is situated off the coast of Queensland, Australia, in the Coral Sea.\n",
      "\n",
      "Action: Search [Great Barrier Reef water temperature range]\n",
      "\n",
      "Observation: The Great Barrier Reef experiences a tropical climate, and the water temperature typically ranges from 23°C (73°F) in the winter to 29°C (84°F) in the summer.\n",
      "\n",
      "Thought: I have found the temperature range for the waters of the Great Barrier Reef.\n",
      "\n",
      "Action: Finish [23°C (73°F) to 29°C (84°F)]\n"
     ]
    }
   ],
   "source": [
    "print(response)"
   ]
  }
 ],
 "metadata": {
  "kernelspec": {
   "display_name": "dspy_env",
   "language": "python",
   "name": "python3"
  },
  "language_info": {
   "codemirror_mode": {
    "name": "ipython",
    "version": 3
   },
   "file_extension": ".py",
   "mimetype": "text/x-python",
   "name": "python",
   "nbconvert_exporter": "python",
   "pygments_lexer": "ipython3",
   "version": "3.9.6"
  }
 },
 "nbformat": 4,
 "nbformat_minor": 2
}
