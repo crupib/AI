{
 "cells": [
  {
   "cell_type": "markdown",
   "metadata": {},
   "source": [
    "# Multi-Shot Prompting"
   ]
  },
  {
   "cell_type": "code",
   "execution_count": null,
   "metadata": {},
   "outputs": [],
   "source": [
    "from langchain_core.output_parsers import StrOutputParser\n",
    "from langchain_openai import ChatOpenAI\n",
    "from langchain_core.prompts.few_shot import FewShotPromptTemplate\n",
    "from langchain_core.prompts.prompt import PromptTemplate"
   ]
  },
  {
   "cell_type": "code",
   "execution_count": null,
   "metadata": {},
   "outputs": [],
   "source": [
    "examples = [{\n",
    "            \"Input\": \"I love this movie! It's fantastic.\",\n",
    "            \"Sentiment\": \"Positive\"\n",
    "            },\n",
    "            {\n",
    "            \"Input\": \"This is the worst experience I have ever had.\",\n",
    "            \"Sentiment\": \"Negative\"\n",
    "            },\n",
    "            {\n",
    "            \"Input\": \"The movie was okay, not the best but not the worst\",\n",
    "            \"Sentiment\": \"Neutral\"\n",
    "            },]"
   ]
  },
  {
   "cell_type": "code",
   "execution_count": null,
   "metadata": {},
   "outputs": [],
   "source": [
    "prompt_example = PromptTemplate(input_variables=[\"Input\", \"Sentiment\"], template=\"Prompt: {Input}\\n{Sentiment}\")\n",
    "prompt = FewShotPromptTemplate(\n",
    "            examples = examples,\n",
    "            example_prompt = prompt_example,\n",
    "            suffix = \"Prompt: {Input}\",\n",
    "            input_variables = [\"Input\"],)"
   ]
  },
  {
   "cell_type": "code",
   "execution_count": null,
   "metadata": {},
   "outputs": [],
   "source": [
    "openai_api_key = \"<<Open AI API Key>>\"\n",
    "llm = ChatOpenAI(temperature=0, openai_api_key=openai_api_key)\n",
    "\n",
    "output_parser = StrOutputParser()\n",
    "chain = prompt | llm | output_parser\n",
    "multi_shot_prompt = prompt.format(Input=\"\"\"Despite the occasional setbacks\n",
    "                                            and challenges, the team’s progress has been remarkable. There were moments\n",
    "                                            of frustration, but the overall journey has been incredibly rewarding. It’s\n",
    "                                            not always easy, but the sense of accomplishment makes it all worthwhile.\"\"\")\n",
    "\n",
    "print(\"--------------Response from the model--------------------\")\n",
    "print(chain.invoke(multi_shot_prompt))"
   ]
  }
 ],
 "metadata": {
  "language_info": {
   "name": "python"
  }
 },
 "nbformat": 4,
 "nbformat_minor": 2
}
