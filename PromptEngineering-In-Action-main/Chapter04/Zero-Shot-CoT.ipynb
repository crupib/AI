{
 "cells": [
  {
   "cell_type": "markdown",
   "metadata": {},
   "source": [
    "# Zero-Shot-CoT Prompting"
   ]
  },
  {
   "cell_type": "code",
   "execution_count": 2,
   "metadata": {},
   "outputs": [
    {
     "name": "stderr",
     "output_type": "stream",
     "text": [
      
     ]
    }
   ],
   "source": [
    "import os\n",
    "from langchain import PromptTemplate, LLMChain\n",
    "from langchain_openai import ChatOpenAI\n",
    "from langchain_core.messages import HumanMessage, SystemMessage"
   ]
  },
  {
   "cell_type": "code",
   "execution_count": 5,
   "metadata": {},
   "outputs": [],
   "source": [
    "llm = ChatOpenAI(temperature=0, model_name=\"gpt-4o\", openai_api_key=os.environ['OPENAI_API_KEY'])"
   ]
  },
  {
   "cell_type": "code",
   "execution_count": 6,
   "metadata": {},
   "outputs": [],
   "source": [
    "prompt = \"\"\"Q: Mrs. Smith currently has 10 students in her class.\n",
    "She receives 3 new groups of students over the week. Each group contains 4 students.\n",
    "How many students does Mrs. Smith have in her class now?\n",
    "A: Let's think step by step\n",
    "\"\"\""
   ]
  },
  {
   "cell_type": "code",
   "execution_count": 11,
   "metadata": {},
   "outputs": [
    {
     "name": "stdout",
     "output_type": "stream",
     "text": [
      "Sure, let's break it down step by step:\n",
      "\n",
      "1. Mrs. Smith currently has 10 students in her class.\n",
      "2. She receives 3 new groups of students.\n",
      "3. Each group contains 4 students.\n",
      "\n",
      "First, we need to calculate the total number of new students she receives:\n",
      "\\[ 3 \\text{ groups} \\times 4 \\text{ students per group} = 12 \\text{ new students} \\]\n",
      "\n",
      "Next, we add the number of new students to the number of students she currently has:\n",
      "\\[ 10 \\text{ current students} + 12 \\text{ new students} = 22 \\text{ students} \\]\n",
      "\n",
      "So, Mrs. Smith now has 22 students in her class.\n"
     ]
    }
   ],
   "source": [
    "messages = [SystemMessage(content=prompt), HumanMessage(content=prompt)]\n",
    "resp = llm(messages)\n",
    "output = resp.content\n",
    "print(output)"
   ]
  }
 ],
 "metadata": {
  "kernelspec": {
   "display_name": "dspy_env",
   "language": "python",
   "name": "python3"
  },
  "language_info": {
   "codemirror_mode": {
    "name": "ipython",
    "version": 3
   },
   "file_extension": ".py",
   "mimetype": "text/x-python",
   "name": "python",
   "nbconvert_exporter": "python",
   "pygments_lexer": "ipython3",
   "version": "3.9.6"
  }
 },
 "nbformat": 4,
 "nbformat_minor": 2
}
