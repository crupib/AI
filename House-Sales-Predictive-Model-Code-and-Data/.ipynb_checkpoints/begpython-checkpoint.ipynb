{
 "cells": [
  {
   "cell_type": "code",
   "execution_count": 1,
   "id": "8ca4bc58-d76c-4e5a-b0ba-51ce4b987d9b",
   "metadata": {},
   "outputs": [
    {
     "data": {
      "text/plain": [
       "True"
      ]
     },
     "execution_count": 1,
     "metadata": {},
     "output_type": "execute_result"
    }
   ],
   "source": [
    "'dan' == 'dan'"
   ]
  },
  {
   "cell_type": "code",
   "execution_count": 3,
   "id": "0c1d5838-a870-4690-a61b-ffddd240f6da",
   "metadata": {},
   "outputs": [
    {
     "data": {
      "text/plain": [
       "False"
      ]
     },
     "execution_count": 3,
     "metadata": {},
     "output_type": "execute_result"
    }
   ],
   "source": [
    "1 >= 2"
   ]
  },
  {
   "cell_type": "code",
   "execution_count": 6,
   "id": "270fd692-0640-4a8d-80db-6b37390348e3",
   "metadata": {},
   "outputs": [
    {
     "data": {
      "text/plain": [
       "True"
      ]
     },
     "execution_count": 6,
     "metadata": {},
     "output_type": "execute_result"
    }
   ],
   "source": [
    "3 == 3"
   ]
  },
  {
   "cell_type": "code",
   "execution_count": 8,
   "id": "22ef3c34-dba4-45f8-9244-3bef7de0c570",
   "metadata": {},
   "outputs": [
    {
     "data": {
      "text/plain": [
       "2"
      ]
     },
     "execution_count": 8,
     "metadata": {},
     "output_type": "execute_result"
    }
   ],
   "source": [
    "1 + 1"
   ]
  },
  {
   "cell_type": "code",
   "execution_count": 10,
   "id": "61e15cf8-6958-444a-ac15-4248e2d4f55f",
   "metadata": {},
   "outputs": [
    {
     "data": {
      "text/plain": [
       "1"
      ]
     },
     "execution_count": 10,
     "metadata": {},
     "output_type": "execute_result"
    }
   ],
   "source": [
    "3-2"
   ]
  },
  {
   "cell_type": "code",
   "execution_count": 12,
   "id": "475b5c0b-26bc-4814-a963-75f649c37e2a",
   "metadata": {},
   "outputs": [
    {
     "data": {
      "text/plain": [
       "5.0"
      ]
     },
     "execution_count": 12,
     "metadata": {},
     "output_type": "execute_result"
    }
   ],
   "source": [
    "10/2"
   ]
  },
  {
   "cell_type": "code",
   "execution_count": 14,
   "id": "7db3cd36-7303-473b-87d3-1f715a4769e6",
   "metadata": {},
   "outputs": [
    {
     "data": {
      "text/plain": [
       "9"
      ]
     },
     "execution_count": 14,
     "metadata": {},
     "output_type": "execute_result"
    }
   ],
   "source": [
    "3 * 3"
   ]
  },
  {
   "cell_type": "code",
   "execution_count": 16,
   "id": "97d1d5c3-cfc7-45de-8a77-b07c69fb5dea",
   "metadata": {},
   "outputs": [
    {
     "data": {
      "text/plain": [
       "16"
      ]
     },
     "execution_count": 16,
     "metadata": {},
     "output_type": "execute_result"
    }
   ],
   "source": [
    "(5+3)*2 "
   ]
  },
  {
   "cell_type": "code",
   "execution_count": 18,
   "id": "a14cd473-fa11-4936-9896-9dc4cdc2b6dc",
   "metadata": {},
   "outputs": [
    {
     "data": {
      "text/plain": [
       "float"
      ]
     },
     "execution_count": 18,
     "metadata": {},
     "output_type": "execute_result"
    }
   ],
   "source": [
    "type(3.5)"
   ]
  },
  {
   "cell_type": "code",
   "execution_count": 20,
   "id": "d3fbde32-78b4-4a4e-b807-61ead8efd0be",
   "metadata": {},
   "outputs": [
    {
     "data": {
      "text/plain": [
       "int"
      ]
     },
     "execution_count": 20,
     "metadata": {},
     "output_type": "execute_result"
    }
   ],
   "source": [
    "type(12)"
   ]
  },
  {
   "cell_type": "code",
   "execution_count": 24,
   "id": "967687f7-cc0b-4421-8d4b-73dd27783a3e",
   "metadata": {},
   "outputs": [
    {
     "name": "stdout",
     "output_type": "stream",
     "text": [
      "bob met sarah\n"
     ]
    }
   ],
   "source": [
    "str1 = 'bob'\n",
    "str2 = 'met'\n",
    "str3 = 'sarah'\n",
    "print (str1+\" \" + str2+\" \" + str3)"
   ]
  },
  {
   "cell_type": "code",
   "execution_count": 26,
   "id": "bdd0825c-940e-48ac-8f3e-7fbba167c5ae",
   "metadata": {},
   "outputs": [
    {
     "data": {
      "text/plain": [
       "'BOB'"
      ]
     },
     "execution_count": 26,
     "metadata": {},
     "output_type": "execute_result"
    }
   ],
   "source": [
    "str1.upper()"
   ]
  },
  {
   "cell_type": "code",
   "execution_count": 28,
   "id": "ce99a933-19b6-487d-9042-c0e7d2921c85",
   "metadata": {},
   "outputs": [
    {
     "data": {
      "text/plain": [
       "'bob'"
      ]
     },
     "execution_count": 28,
     "metadata": {},
     "output_type": "execute_result"
    }
   ],
   "source": [
    "str1.lower()"
   ]
  },
  {
   "cell_type": "code",
   "execution_count": 30,
   "id": "d4f8d285-3c7f-4732-aeeb-7e7ccb469e1d",
   "metadata": {},
   "outputs": [
    {
     "data": {
      "text/plain": [
       "2"
      ]
     },
     "execution_count": 30,
     "metadata": {},
     "output_type": "execute_result"
    }
   ],
   "source": [
    "str1.count('b')"
   ]
  },
  {
   "cell_type": "code",
   "execution_count": 32,
   "id": "034b4bc7-0e07-4197-9160-341918e73167",
   "metadata": {},
   "outputs": [
    {
     "data": {
      "text/plain": [
       "'brb'"
      ]
     },
     "execution_count": 32,
     "metadata": {},
     "output_type": "execute_result"
    }
   ],
   "source": [
    "str1.replace('o','r')"
   ]
  },
  {
   "cell_type": "code",
   "execution_count": 36,
   "id": "4555124e-e556-4095-a31f-3ca4e867b281",
   "metadata": {},
   "outputs": [],
   "source": [
    "tuple2 = (1,(3,4),5,6,(7,8))"
   ]
  },
  {
   "cell_type": "code",
   "execution_count": 38,
   "id": "74c3a5a6-4357-445c-965d-e42c3fcbd192",
   "metadata": {},
   "outputs": [
    {
     "name": "stdout",
     "output_type": "stream",
     "text": [
      "3\n"
     ]
    }
   ],
   "source": [
    "print(tuple2[1][0])"
   ]
  },
  {
   "cell_type": "code",
   "execution_count": 40,
   "id": "10ba9d6a-b6be-49c3-ba95-ba74748e3976",
   "metadata": {},
   "outputs": [
    {
     "name": "stdout",
     "output_type": "stream",
     "text": [
      "3\n"
     ]
    }
   ],
   "source": [
    "print(tuple2[1][0])"
   ]
  },
  {
   "cell_type": "code",
   "execution_count": 46,
   "id": "fe9fa35d-cc6d-4da1-bee7-43dacdb7a9e7",
   "metadata": {},
   "outputs": [
    {
     "name": "stdout",
     "output_type": "stream",
     "text": [
      "4\n"
     ]
    }
   ],
   "source": [
    "print(tuple2[1][1])"
   ]
  },
  {
   "cell_type": "code",
   "execution_count": 50,
   "id": "d1b082db-7401-4332-8bff-9fd61bf0851e",
   "metadata": {},
   "outputs": [
    {
     "data": {
      "text/plain": [
       "(3, 4)"
      ]
     },
     "execution_count": 50,
     "metadata": {},
     "output_type": "execute_result"
    }
   ],
   "source": [
    "tuple2[1]"
   ]
  },
  {
   "cell_type": "code",
   "execution_count": 52,
   "id": "0919ac12-28ae-4262-97af-003c18ee8640",
   "metadata": {},
   "outputs": [
    {
     "data": {
      "text/plain": [
       "3"
      ]
     },
     "execution_count": 52,
     "metadata": {},
     "output_type": "execute_result"
    }
   ],
   "source": [
    "tuple2[1][0]"
   ]
  },
  {
   "cell_type": "code",
   "execution_count": 54,
   "id": "298ab960-d005-4cbd-b428-0532bfbb5bf4",
   "metadata": {},
   "outputs": [
    {
     "data": {
      "text/plain": [
       "4"
      ]
     },
     "execution_count": 54,
     "metadata": {},
     "output_type": "execute_result"
    }
   ],
   "source": [
    "tuple2[1][1]"
   ]
  },
  {
   "cell_type": "code",
   "execution_count": 56,
   "id": "853ba974-0880-4a38-85d5-8c3923e50f8c",
   "metadata": {},
   "outputs": [],
   "source": [
    "list1 = [1,'two',3.5,False]"
   ]
  },
  {
   "cell_type": "code",
   "execution_count": 58,
   "id": "974a960f-19b4-4f24-903a-48b823dc9a1c",
   "metadata": {},
   "outputs": [],
   "source": [
    "list1[2] = 4"
   ]
  },
  {
   "cell_type": "code",
   "execution_count": 60,
   "id": "c72391d1-eef3-4eef-b6f9-ce0149c49223",
   "metadata": {},
   "outputs": [
    {
     "name": "stdout",
     "output_type": "stream",
     "text": [
      "[1, 'two', 4, False]\n"
     ]
    }
   ],
   "source": [
    "print(list1)"
   ]
  },
  {
   "cell_type": "code",
   "execution_count": 62,
   "id": "ca314b85-ac08-45ea-b6c0-3ae22b7271f4",
   "metadata": {},
   "outputs": [
    {
     "name": "stdout",
     "output_type": "stream",
     "text": [
      "{'leader': 'Winston Churchill', 'fighter': 'Mike Tyson', 'city': 'Toronto'}\n"
     ]
    }
   ],
   "source": [
    "dictionary1 = {'leader':'Abraham Lincoln','fighter':'Mike Tyson', 'city':'Toronto'}\n",
    "dictionary1['leader']='Winston Churchill'\n",
    "print(dictionary1)"
   ]
  },
  {
   "cell_type": "code",
   "execution_count": 64,
   "id": "f46225f7-f0e7-44cf-838d-9e74b583a4f2",
   "metadata": {},
   "outputs": [
    {
     "name": "stdout",
     "output_type": "stream",
     "text": [
      "{'two', 1, 3.5, False}\n"
     ]
    }
   ],
   "source": [
    "set1 = {1,'two',3.5,3.5,False}\n",
    "print(set1)"
   ]
  },
  {
   "cell_type": "code",
   "execution_count": 3,
   "id": "a36dd12e-3502-45f4-aa3f-86d0990ccf2b",
   "metadata": {},
   "outputs": [
    {
     "name": "stdout",
     "output_type": "stream",
     "text": [
      "{False, 1, 3.5, 'twenty', 'two'}\n",
      "{False, 1, 3.5, 'twenty'}\n"
     ]
    }
   ],
   "source": [
    "set1 = {1,'two',3.5,3.5,False}\n",
    "set1.add('twenty')\n",
    "print(set1)\n",
    "set1.remove('two')\n",
    "print(set1)"
   ]
  },
  {
   "cell_type": "code",
   "execution_count": 5,
   "id": "be276dcc-3eec-4c2d-a6ff-56e3f459e175",
   "metadata": {},
   "outputs": [
    {
     "data": {
      "text/plain": [
       "{1, 3.5}"
      ]
     },
     "execution_count": 5,
     "metadata": {},
     "output_type": "execute_result"
    }
   ],
   "source": [
    "set2 = {'hello',1,3.5,'I','new'}\n",
    "set1 = {1,'two',3.5,3.5,False}\n",
    "set2&set1"
   ]
  },
  {
   "cell_type": "code",
   "execution_count": 7,
   "id": "e018c31f-42ba-4c99-997f-d56130f6526b",
   "metadata": {},
   "outputs": [
    {
     "data": {
      "text/plain": [
       "{1, 3.5, False, 'I', 'hello', 'new', 'two'}"
      ]
     },
     "execution_count": 7,
     "metadata": {},
     "output_type": "execute_result"
    }
   ],
   "source": [
    "set2 = {'hello',1,3.5,'I','new'}\n",
    "set1 = {1,'two',3.5,3.5,False}\n",
    "set1.union(set2)"
   ]
  },
  {
   "cell_type": "code",
   "execution_count": 9,
   "id": "72beb296-d607-4b39-bcd0-ad0c81e15dc4",
   "metadata": {},
   "outputs": [],
   "source": [
    "class Human(object):\n",
    "    def __init__(self,height,weight):\n",
    "        self.height = height;\n",
    "        self.weight = weight;"
   ]
  },
  {
   "cell_type": "code",
   "execution_count": 11,
   "id": "ea947392-e9e3-4dcb-a3c5-51f70a8a0489",
   "metadata": {},
   "outputs": [
    {
     "name": "stdout",
     "output_type": "stream",
     "text": [
      "60\n",
      "180\n"
     ]
    }
   ],
   "source": [
    "newHuman = Human(60,180)\n",
    "print(newHuman.height)\n",
    "print(newHuman.weight)"
   ]
  },
  {
   "cell_type": "code",
   "execution_count": null,
   "id": "a47e688b-9f29-44fa-9798-f2c29f06f6f0",
   "metadata": {},
   "outputs": [],
   "source": []
  }
 ],
 "metadata": {
  "kernelspec": {
   "display_name": "Python 3 (ipykernel)",
   "language": "python",
   "name": "python3"
  },
  "language_info": {
   "codemirror_mode": {
    "name": "ipython",
    "version": 3
   },
   "file_extension": ".py",
   "mimetype": "text/x-python",
   "name": "python",
   "nbconvert_exporter": "python",
   "pygments_lexer": "ipython3",
   "version": "3.11.5"
  }
 },
 "nbformat": 4,
 "nbformat_minor": 5
}
